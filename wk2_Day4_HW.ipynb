{
 "cells": [
  {
   "cell_type": "code",
   "execution_count": 21,
   "id": "56d539a8",
   "metadata": {},
   "outputs": [
    {
     "name": "stdout",
     "output_type": "stream",
     "text": [
      "Lets calculate the square footage of your house\n",
      "Enter the lenth of the house 7\n",
      "Enter the width of the house 10\n",
      "This house is 70 square feet\n",
      "None\n"
     ]
    }
   ],
   "source": [
    "import hw_module\n",
    "\n",
    "print(hw_module.sq_ft())\n"
   ]
  },
  {
   "cell_type": "code",
   "execution_count": 20,
   "id": "a0aae65a",
   "metadata": {},
   "outputs": [
    {
     "name": "stdout",
     "output_type": "stream",
     "text": [
      "Lets calculate the circumference of a circle\n",
      "Enter the radius of the circle 7\n"
     ]
    },
    {
     "data": {
      "text/plain": [
       "'The circumference of a circle is 43.96'"
      ]
     },
     "execution_count": 20,
     "metadata": {},
     "output_type": "execute_result"
    }
   ],
   "source": [
    "import hw_2\n",
    "\n",
    "hw_2.circle()"
   ]
  },
  {
   "cell_type": "code",
   "execution_count": 30,
   "id": "ca9adb31",
   "metadata": {},
   "outputs": [
    {
     "name": "stdout",
     "output_type": "stream",
     "text": [
      "What would you like to do, add, remove, show or quit add\n",
      "what would you like to add? k'3'\n",
      "how many k'3' would you like? 3\n",
      "What would you like to do, add, remove, show or quit quit\n",
      "Thank you for shopping with us. Have a wonderful day!\n",
      "{\"k'3'\": 3}\n"
     ]
    }
   ],
   "source": [
    "store = {}\n",
    "\n",
    "def add_item():\n",
    "    item = input(\"what would you like to add? \")\n",
    "    quantity = int(input(f\"how many {item} would you like? \"))\n",
    "    \n",
    "    if item not in store:\n",
    "        store[item] = quantity       \n",
    "    \n",
    "\n",
    "def remove_item():\n",
    "    item = input(\"what would you like to remove \")\n",
    "    del store[item]\n",
    "    \n",
    "\n",
    "def show_store():\n",
    "    print(store)\n",
    "    \n",
    "while True:\n",
    "    response = input(\"What would you like to do, add, remove, show or quit \")\n",
    "    \n",
    "    if response.lower() == 'add':\n",
    "        add_item()\n",
    "    elif response.lower() == 'remove':\n",
    "        remove_item()\n",
    "        \n",
    "    elif response.lower() == \"show\":\n",
    "        show_store()\n",
    "        \n",
    "    elif response.lower() == \"quit\":\n",
    "        print(\"Thank you for shopping with us. Have a wonderful day!\")\n",
    "        show_store()\n",
    "        break\n",
    "    else: \n",
    "        print(\"Please enter a valid response \")\n",
    "    \n"
   ]
  },
  {
   "cell_type": "code",
   "execution_count": null,
   "id": "9d9c47fb",
   "metadata": {},
   "outputs": [],
   "source": []
  },
  {
   "cell_type": "code",
   "execution_count": null,
   "id": "1ef31abf",
   "metadata": {},
   "outputs": [],
   "source": []
  }
 ],
 "metadata": {
  "kernelspec": {
   "display_name": "Python 3 (ipykernel)",
   "language": "python",
   "name": "python3"
  },
  "language_info": {
   "codemirror_mode": {
    "name": "ipython",
    "version": 3
   },
   "file_extension": ".py",
   "mimetype": "text/x-python",
   "name": "python",
   "nbconvert_exporter": "python",
   "pygments_lexer": "ipython3",
   "version": "3.10.9"
  }
 },
 "nbformat": 4,
 "nbformat_minor": 5
}
